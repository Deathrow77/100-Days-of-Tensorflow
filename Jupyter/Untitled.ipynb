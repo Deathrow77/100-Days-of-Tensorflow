{
 "cells": [
  {
   "cell_type": "code",
   "execution_count": 1,
   "metadata": {},
   "outputs": [],
   "source": [
    "import tensorflow as tf"
   ]
  },
  {
   "cell_type": "code",
   "execution_count": 2,
   "metadata": {},
   "outputs": [
    {
     "data": {
      "text/plain": [
       "'1.13.1'"
      ]
     },
     "execution_count": 2,
     "metadata": {},
     "output_type": "execute_result"
    }
   ],
   "source": [
    "tf.__version__\n"
   ]
  },
  {
   "cell_type": "code",
   "execution_count": 3,
   "metadata": {},
   "outputs": [
    {
     "name": "stdout",
     "output_type": "stream",
     "text": [
      "WARNING:tensorflow:From <ipython-input-3-f0b69d01eef2>:5: read_data_sets (from tensorflow.contrib.learn.python.learn.datasets.mnist) is deprecated and will be removed in a future version.\n",
      "Instructions for updating:\n",
      "Please use alternatives such as official/mnist/dataset.py from tensorflow/models.\n",
      "WARNING:tensorflow:From /home/pc77/.local/lib/python3.6/site-packages/tensorflow/contrib/learn/python/learn/datasets/mnist.py:260: maybe_download (from tensorflow.contrib.learn.python.learn.datasets.base) is deprecated and will be removed in a future version.\n",
      "Instructions for updating:\n",
      "Please write your own downloading logic.\n",
      "WARNING:tensorflow:From /home/pc77/.local/lib/python3.6/site-packages/tensorflow/contrib/learn/python/learn/datasets/base.py:252: _internal_retry.<locals>.wrap.<locals>.wrapped_fn (from tensorflow.contrib.learn.python.learn.datasets.base) is deprecated and will be removed in a future version.\n",
      "Instructions for updating:\n",
      "Please use urllib or similar directly.\n",
      "Successfully downloaded train-images-idx3-ubyte.gz 9912422 bytes.\n",
      "WARNING:tensorflow:From /home/pc77/.local/lib/python3.6/site-packages/tensorflow/contrib/learn/python/learn/datasets/mnist.py:262: extract_images (from tensorflow.contrib.learn.python.learn.datasets.mnist) is deprecated and will be removed in a future version.\n",
      "Instructions for updating:\n",
      "Please use tf.data to implement this functionality.\n",
      "Extracting MNIST_data/train-images-idx3-ubyte.gz\n",
      "Successfully downloaded train-labels-idx1-ubyte.gz 28881 bytes.\n",
      "WARNING:tensorflow:From /home/pc77/.local/lib/python3.6/site-packages/tensorflow/contrib/learn/python/learn/datasets/mnist.py:267: extract_labels (from tensorflow.contrib.learn.python.learn.datasets.mnist) is deprecated and will be removed in a future version.\n",
      "Instructions for updating:\n",
      "Please use tf.data to implement this functionality.\n",
      "Extracting MNIST_data/train-labels-idx1-ubyte.gz\n",
      "WARNING:tensorflow:From /home/pc77/.local/lib/python3.6/site-packages/tensorflow/contrib/learn/python/learn/datasets/mnist.py:110: dense_to_one_hot (from tensorflow.contrib.learn.python.learn.datasets.mnist) is deprecated and will be removed in a future version.\n",
      "Instructions for updating:\n",
      "Please use tf.one_hot on tensors.\n",
      "Successfully downloaded t10k-images-idx3-ubyte.gz 1648877 bytes.\n",
      "Extracting MNIST_data/t10k-images-idx3-ubyte.gz\n",
      "Successfully downloaded t10k-labels-idx1-ubyte.gz 4542 bytes.\n",
      "Extracting MNIST_data/t10k-labels-idx1-ubyte.gz\n",
      "WARNING:tensorflow:From /home/pc77/.local/lib/python3.6/site-packages/tensorflow/contrib/learn/python/learn/datasets/mnist.py:290: DataSet.__init__ (from tensorflow.contrib.learn.python.learn.datasets.mnist) is deprecated and will be removed in a future version.\n",
      "Instructions for updating:\n",
      "Please use alternatives such as official/mnist/dataset.py from tensorflow/models.\n"
     ]
    }
   ],
   "source": [
    "# Importing the dataset\n",
    "\n",
    "from tensorflow.examples.tutorials.mnist import input_data\n",
    "\n",
    "data = input_data.read_data_sets(\"MNIST_data/\", one_hot=True)"
   ]
  },
  {
   "cell_type": "code",
   "execution_count": 4,
   "metadata": {},
   "outputs": [
    {
     "data": {
      "text/plain": [
       "Datasets(train=<tensorflow.contrib.learn.python.learn.datasets.mnist.DataSet object at 0x7fd3ef8a7d68>, validation=<tensorflow.contrib.learn.python.learn.datasets.mnist.DataSet object at 0x7fd3e8c436a0>, test=<tensorflow.contrib.learn.python.learn.datasets.mnist.DataSet object at 0x7fd3e8c43d30>)"
      ]
     },
     "execution_count": 4,
     "metadata": {},
     "output_type": "execute_result"
    }
   ],
   "source": [
    "data"
   ]
  },
  {
   "cell_type": "code",
   "execution_count": 44,
   "metadata": {},
   "outputs": [],
   "source": [
    "data.train.labels\n",
    "sess.close()\n",
    "sess = tf.InteractiveSession()"
   ]
  },
  {
   "cell_type": "code",
   "execution_count": 45,
   "metadata": {},
   "outputs": [],
   "source": [
    "# Creating the placeholders for input data\n",
    "X = tf.placeholder(tf.float32, shape=[None, 784])\n",
    "Y = tf.placeholder(tf.float32, shape=[None, 10])"
   ]
  },
  {
   "cell_type": "code",
   "execution_count": 46,
   "metadata": {},
   "outputs": [],
   "source": [
    "W = tf.Variable(tf.zeros([784,10], tf.float32))\n",
    "b = tf.Variable(tf.zeros([10], tf.float32))"
   ]
  },
  {
   "cell_type": "code",
   "execution_count": 47,
   "metadata": {},
   "outputs": [],
   "source": [
    "y_calc = tf.nn.softmax(tf.add(tf.matmul(X, W),b))"
   ]
  },
  {
   "cell_type": "code",
   "execution_count": 53,
   "metadata": {},
   "outputs": [],
   "source": [
    "# Create the loss function and the optimizer\n",
    "sess.run(tf.global_variables_initializer())\n",
    "cross_entropy = tf.reduce_mean(-tf.reduce_sum(Y*tf.log(y_calc), reduction_indices=[1]))"
   ]
  },
  {
   "cell_type": "code",
   "execution_count": null,
   "metadata": {},
   "outputs": [],
   "source": []
  },
  {
   "cell_type": "code",
   "execution_count": 54,
   "metadata": {},
   "outputs": [],
   "source": [
    "optimizer = tf.train.GradientDescentOptimizer(0.01)\n",
    "train = optimizer.minimize(cross_entropy)"
   ]
  },
  {
   "cell_type": "code",
   "execution_count": null,
   "metadata": {},
   "outputs": [
    {
     "name": "stdout",
     "output_type": "stream",
     "text": [
      "In epoch 0 , the accuracy is 0.8057000041007996\n",
      "In epoch 1 , the accuracy is 0.8039000034332275\n",
      "In epoch 2 , the accuracy is 0.8050000071525574\n",
      "In epoch 3 , the accuracy is 0.8090999722480774\n",
      "In epoch 4 , the accuracy is 0.8112000226974487\n",
      "In epoch 5 , the accuracy is 0.8136000037193298\n",
      "In epoch 6 , the accuracy is 0.8137999773025513\n",
      "In epoch 7 , the accuracy is 0.8152999877929688\n",
      "In epoch 8 , the accuracy is 0.8138999938964844\n",
      "In epoch 9 , the accuracy is 0.8120999932289124\n",
      "In epoch 10 , the accuracy is 0.8144000172615051\n",
      "In epoch 11 , the accuracy is 0.8180000185966492\n",
      "In epoch 12 , the accuracy is 0.819599986076355\n",
      "In epoch 13 , the accuracy is 0.8203999996185303\n",
      "In epoch 14 , the accuracy is 0.8179000020027161\n",
      "In epoch 15 , the accuracy is 0.8184000253677368\n",
      "In epoch 16 , the accuracy is 0.8163999915122986\n",
      "In epoch 17 , the accuracy is 0.815500020980835\n",
      "In epoch 18 , the accuracy is 0.8152999877929688\n",
      "In epoch 19 , the accuracy is 0.8156999945640564\n",
      "In epoch 20 , the accuracy is 0.8163999915122986\n",
      "In epoch 21 , the accuracy is 0.8180000185966492\n",
      "In epoch 22 , the accuracy is 0.8191999793052673\n",
      "In epoch 23 , the accuracy is 0.8190000057220459\n",
      "In epoch 24 , the accuracy is 0.8220999836921692\n",
      "In epoch 25 , the accuracy is 0.8230000138282776\n",
      "In epoch 26 , the accuracy is 0.8235999941825867\n",
      "In epoch 27 , the accuracy is 0.8238000273704529\n",
      "In epoch 28 , the accuracy is 0.8216000199317932\n",
      "In epoch 29 , the accuracy is 0.8210999965667725\n",
      "In epoch 30 , the accuracy is 0.8198000192642212\n",
      "In epoch 31 , the accuracy is 0.8206999897956848\n",
      "In epoch 32 , the accuracy is 0.8230999708175659\n",
      "In epoch 33 , the accuracy is 0.8238999843597412\n",
      "In epoch 34 , the accuracy is 0.8241999745368958\n",
      "In epoch 35 , the accuracy is 0.8256000280380249\n",
      "In epoch 36 , the accuracy is 0.8259999752044678\n",
      "In epoch 37 , the accuracy is 0.8252999782562256\n",
      "In epoch 38 , the accuracy is 0.8246999979019165\n",
      "In epoch 39 , the accuracy is 0.824400007724762\n",
      "In epoch 40 , the accuracy is 0.8245999813079834\n",
      "In epoch 41 , the accuracy is 0.8228999972343445\n",
      "In epoch 42 , the accuracy is 0.8219000101089478\n",
      "In epoch 43 , the accuracy is 0.8224999904632568\n",
      "In epoch 44 , the accuracy is 0.8210999965667725\n",
      "In epoch 45 , the accuracy is 0.8210999965667725\n",
      "In epoch 46 , the accuracy is 0.8215000033378601\n",
      "In epoch 47 , the accuracy is 0.819599986076355\n",
      "In epoch 48 , the accuracy is 0.8202999830245972\n",
      "In epoch 49 , the accuracy is 0.8203999996185303\n",
      "In epoch 50 , the accuracy is 0.8220999836921692\n",
      "In epoch 51 , the accuracy is 0.8212000131607056\n",
      "In epoch 52 , the accuracy is 0.8210999965667725\n",
      "In epoch 53 , the accuracy is 0.8212000131607056\n",
      "In epoch 54 , the accuracy is 0.8240000009536743\n",
      "In epoch 55 , the accuracy is 0.8237000107765198\n",
      "In epoch 56 , the accuracy is 0.8252999782562256\n",
      "In epoch 57 , the accuracy is 0.8267999887466431\n",
      "In epoch 58 , the accuracy is 0.8245999813079834\n",
      "In epoch 59 , the accuracy is 0.823199987411499\n",
      "In epoch 60 , the accuracy is 0.8234999775886536\n",
      "In epoch 61 , the accuracy is 0.8246999979019165\n",
      "In epoch 62 , the accuracy is 0.8259000182151794\n",
      "In epoch 63 , the accuracy is 0.8267999887466431\n",
      "In epoch 64 , the accuracy is 0.8312000036239624\n",
      "In epoch 65 , the accuracy is 0.8314999938011169\n",
      "In epoch 66 , the accuracy is 0.832099974155426\n",
      "In epoch 67 , the accuracy is 0.8324000239372253\n",
      "In epoch 68 , the accuracy is 0.8327999711036682\n",
      "In epoch 69 , the accuracy is 0.8324999809265137\n"
     ]
    }
   ],
   "source": [
    "for i in range(100):\n",
    "    batch = data.train.next_batch(50)\n",
    "    train.run(feed_dict={X:batch[0], Y:batch[1]})\n",
    "    correct_pred = tf.equal(tf.argmax(y_calc,1), tf.argmax(Y, 1))\n",
    "    accuracy = tf.reduce_mean(tf.cast(correct_pred, tf.float32))\n",
    "    acc = accuracy.eval(feed_dict={X:data.test.images, Y:data.test.labels})\n",
    "    print(\"In epoch {} , the accuracy is {}\".format(i, acc))"
   ]
  },
  {
   "cell_type": "code",
   "execution_count": null,
   "metadata": {},
   "outputs": [],
   "source": []
  }
 ],
 "metadata": {
  "kernelspec": {
   "display_name": "Python 3",
   "language": "python",
   "name": "python3"
  },
  "language_info": {
   "codemirror_mode": {
    "name": "ipython",
    "version": 3
   },
   "file_extension": ".py",
   "mimetype": "text/x-python",
   "name": "python",
   "nbconvert_exporter": "python",
   "pygments_lexer": "ipython3",
   "version": "3.6.7"
  }
 },
 "nbformat": 4,
 "nbformat_minor": 2
}
